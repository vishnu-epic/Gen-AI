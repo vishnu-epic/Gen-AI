{
  "nbformat": 4,
  "nbformat_minor": 0,
  "metadata": {
    "colab": {
      "provenance": []
    },
    "kernelspec": {
      "name": "python3",
      "display_name": "Python 3"
    },
    "language_info": {
      "name": "python"
    }
  },
  "cells": [
    {
      "cell_type": "code",
      "execution_count": 2,
      "metadata": {
        "colab": {
          "base_uri": "https://localhost:8080/"
        },
        "id": "iq6k0ovfRta0",
        "outputId": "9b3e449d-6d3a-4db1-c872-b205790f37b1"
      },
      "outputs": [
        {
          "output_type": "stream",
          "name": "stdout",
          "text": [
            "Score Card:\n",
            "Ones: 0\n",
            "Twos: 0\n",
            "Threes: 15\n",
            "Fours: 0\n",
            "Fives: 0\n",
            "Sixes: 0\n",
            "Three of a Kind: 15\n",
            "Four of a Kind: 15\n",
            "Full House: 0\n",
            "Small Straight: 0\n",
            "Large Straight: 0\n",
            "Yahtzee: 50\n"
          ]
        }
      ],
      "source": [
        "def yahtzee_score(dice):\n",
        "    score_card = {\n",
        "        \"Ones\": sum(d for d in dice if d == 1),\n",
        "        \"Twos\": sum(d for d in dice if d == 2),\n",
        "        \"Threes\": sum(d for d in dice if d == 3),\n",
        "        \"Fours\": sum(d for d in dice if d == 4),\n",
        "        \"Fives\": sum(d for d in dice if d == 5),\n",
        "        \"Sixes\": sum(d for d in dice if d == 6),\n",
        "        \"Three of a Kind\": sum(dice) if any(dice.count(d) >= 3 for d in dice) else 0,\n",
        "        \"Four of a Kind\": sum(dice) if any(dice.count(d) >= 4 for d in dice) else 0,\n",
        "        \"Full House\": 25 if len(set(dice)) == 2 and any(dice.count(d) == 2 for d in dice) else 0,\n",
        "        \"Small Straight\": 30 if {1, 2, 3, 4}.issubset(set(dice)) or {2, 3, 4, 5}.issubset(set(dice)) or {3, 4, 5, 6}.issubset(set(dice)) else 0,\n",
        "        \"Large Straight\": 40 if {1, 2, 3, 4, 5} == set(dice) or {2, 3, 4, 5, 6} == set(dice) else 0,\n",
        "        \"Yahtzee\": 50 if len(set(dice)) == 1 else 0,\n",
        "    }\n",
        "    return score_card\n",
        "\n",
        "# Example usage:\n",
        "dice_rolls = [3, 3, 3, 3, 3]  # Example dice rolls\n",
        "score = yahtzee_score(dice_rolls)\n",
        "print(\"Score Card:\")\n",
        "for category, points in score.items():\n",
        "    print(f\"{category}: {points}\")\n"
      ]
    },
    {
      "cell_type": "code",
      "source": [
        "import unittest"
      ],
      "metadata": {
        "id": "pcvxC4XkUGrX"
      },
      "execution_count": 9,
      "outputs": []
    },
    {
      "cell_type": "markdown",
      "source": [
        "Unit Tests for Individual Scoring Categories:\n",
        "Write unit tests to verify that each scoring category calculates the correct score.\n"
      ],
      "metadata": {
        "id": "GOfHzbzVUtLK"
      }
    },
    {
      "cell_type": "code",
      "source": [
        "\n",
        "import unittest\n",
        "\n",
        "def yahtzee_score(dice):\n",
        "    score_card = {\n",
        "        \"Ones\": sum(d for d in dice if d == 1),\n",
        "        \"Twos\": sum(d for d in dice if d == 2),\n",
        "        \"Threes\": sum(d for d in dice if d == 3),\n",
        "        \"Fours\": sum(d for d in dice if d == 4),\n",
        "        \"Fives\": sum(d for d in dice if d == 5),\n",
        "        \"Sixes\": sum(d for d in dice if d == 6),\n",
        "        \"Three of a Kind\": sum(dice) if any(dice.count(d) >= 3 for d in dice) else 0,\n",
        "        \"Four of a Kind\": sum(dice) if any(dice.count(d) >= 4 for d in dice) else 0,\n",
        "        \"Full House\": 25 if len(set(dice)) == 2 and any(dice.count(d) == 2 for d in dice) else 0,\n",
        "        \"Small Straight\": 30 if {1, 2, 3, 4}.issubset(set(dice)) or {2, 3, 4, 5}.issubset(set(dice)) or {3, 4, 5, 6}.issubset(set(dice)) else 0,\n",
        "        \"Large Straight\": 40 if {1, 2, 3, 4, 5} == set(dice) or {2, 3, 4, 5, 6} == set(dice) else 0,\n",
        "        \"Yahtzee\": 50 if len(set(dice)) == 1 else 0,\n",
        "    }\n",
        "    return score_card\n",
        "\n",
        "class TestYahtzeeScorer(unittest.TestCase):\n",
        "\n",
        "    def test_ones(self):\n",
        "        self.assertEqual(yahtzee_score([1, 1, 2, 3, 4])[\"Ones\"], 2)\n",
        "\n",
        "    def test_twos(self):\n",
        "        self.assertEqual(yahtzee_score([1, 2, 2, 3, 4])[\"Twos\"], 4)\n",
        "\n",
        "    def test_threes(self):\n",
        "        self.assertEqual(yahtzee_score([3, 3, 3, 3, 3])[\"Threes\"], 15)\n",
        "\n",
        "    def test_fours(self):\n",
        "        self.assertEqual(yahtzee_score([4, 4, 4, 4, 4])[\"Fours\"], 20)\n",
        "\n",
        "    def test_fives(self):\n",
        "        self.assertEqual(yahtzee_score([5, 5, 5, 5, 5])[\"Fives\"], 25)\n",
        "\n",
        "    def test_sixes(self):\n",
        "        self.assertEqual(yahtzee_score([6, 6, 6, 6, 6])[\"Sixes\"], 30)\n",
        "\n",
        "    def test_three_of_a_kind(self):\n",
        "        self.assertEqual(yahtzee_score([1, 1, 1, 2, 3])[\"Three of a Kind\"], 8)\n",
        "\n",
        "    def test_four_of_a_kind(self):\n",
        "        self.assertEqual(yahtzee_score([4, 4, 4, 4, 2])[\"Four of a Kind\"], 18)\n",
        "\n",
        "    def test_full_house(self):\n",
        "        self.assertEqual(yahtzee_score([3, 3, 3, 2, 2])[\"Full House\"], 25)\n",
        "\n",
        "    def test_small_straight(self):\n",
        "        self.assertEqual(yahtzee_score([1, 2, 3, 4, 4])[\"Small Straight\"], 30)\n",
        "\n",
        "    def test_large_straight(self):\n",
        "        self.assertEqual(yahtzee_score([2, 3, 4, 5, 6])[\"Large Straight\"], 40)\n",
        "\n",
        "    def test_yahtzee(self):\n",
        "        self.assertEqual(yahtzee_score([1, 1, 1, 1, 1])[\"Yahtzee\"], 50)\n",
        "\n",
        "\n",
        "\n",
        "\n"
      ],
      "metadata": {
        "id": "jcV20bTESvtf"
      },
      "execution_count": 14,
      "outputs": []
    },
    {
      "cell_type": "markdown",
      "source": [
        "Boundary Tests:\n",
        "Test edge cases and boundary conditions.\n"
      ],
      "metadata": {
        "id": "704zpvtUUynE"
      }
    },
    {
      "cell_type": "code",
      "source": [
        "def test_yahtzee(self):\n",
        "    self.assertEqual(yahtzee_score([1, 1, 1, 1, 1])[\"Yahtzee\"], 50)\n",
        "\n",
        "def test_full_house(self):\n",
        "    self.assertEqual(yahtzee_score([1, 1, 2, 2, 2])[\"Full House\"], 25)\n",
        "\n",
        "def test_small_straight(self):\n",
        "    self.assertEqual(yahtzee_score([1, 2, 3, 4, 4])[\"Small Straight\"], 30)\n",
        "    self.assertEqual(yahtzee_score([1, 2, 3, 5, 5])[\"Small Straight\"], 30)\n",
        "    self.assertEqual(yahtzee_score([2, 3, 4, 5, 5])[\"Small Straight\"], 30)\n",
        "    # Add more tests for various combinations\n",
        "\n",
        "def test_large_straight(self):\n",
        "    self.assertEqual(yahtzee_score([2, 3, 4, 5, 6])[\"Large Straight\"], 40)\n",
        "    self.assertEqual(yahtzee_score([1, 2, 3, 4, 5])[\"Large Straight\"], 40)\n",
        "    # Add more tests for various combinations\n",
        "\n",
        "def test_yahtzee_multiple(self):\n",
        "    # Testing for Yahtzee with different numbers\n",
        "    self.assertEqual(yahtzee_score([6, 6, 6, 6, 6])[\"Yahtzee\"], 50)\n",
        "    self.assertEqual(yahtzee_score([3, 3, 3, 3, 3])[\"Yahtzee\"], 50)\n",
        "    # Add more tests for different numbers\n",
        "\n",
        "def test_no_scoring_category(self):\n",
        "    # Testing for no scoring category\n",
        "    self.assertEqual(yahtzee_score([1, 2, 2, 4, 6]), {\"Ones\": 1, \"Twos\": 4, \"Threes\": 0, \"Fours\": 4, \"Fives\": 0, \"Sixes\": 6,\n",
        "                                                     \"Three of a Kind\": 0, \"Four of a Kind\": 0, \"Full House\": 0,\n",
        "                                                     \"Small Straight\": 0, \"Large Straight\": 0, \"Yahtzee\": 0})\n",
        "\n"
      ],
      "metadata": {
        "id": "DMtWWrNIUnBa"
      },
      "execution_count": 15,
      "outputs": []
    },
    {
      "cell_type": "markdown",
      "source": [
        "Negative Tests:\n",
        "Test with invalid inputs to ensure the function handles them correctly."
      ],
      "metadata": {
        "id": "dbTwuZ-7U2BA"
      }
    },
    {
      "cell_type": "code",
      "source": [
        "def test_invalid_input(self):\n",
        "    # Test with an empty list\n",
        "    self.assertEqual(yahtzee_score([]), {\"Ones\": 0, \"Twos\": 0, \"Threes\": 0, \"Fours\": 0, \"Fives\": 0, \"Sixes\": 0,\n",
        "                                          \"Three of a Kind\": 0, \"Four of a Kind\": 0, \"Full House\": 0,\n",
        "                                          \"Small Straight\": 0, \"Large Straight\": 0, \"Yahtzee\": 0})\n",
        "\n",
        "    # Test with a list containing fewer than five elements\n",
        "    self.assertEqual(yahtzee_score([1, 2, 3]), {\"Ones\": 0, \"Twos\": 0, \"Threes\": 0, \"Fours\": 0, \"Fives\": 0, \"Sixes\": 0,\n",
        "                                                 \"Three of a Kind\": 0, \"Four of a Kind\": 0, \"Full House\": 0,\n",
        "                                                 \"Small Straight\": 0, \"Large Straight\": 0, \"Yahtzee\": 0})\n",
        "\n",
        "    # Test with a list containing more than five elements\n",
        "    self.assertEqual(yahtzee_score([1, 2, 3, 4, 5, 6]), {\"Ones\": 0, \"Twos\": 0, \"Threes\": 0, \"Fours\": 0, \"Fives\": 0, \"Sixes\": 0,\n",
        "                                                          \"Three of a Kind\": 0, \"Four of a Kind\": 0, \"Full House\": 0,\n",
        "                                                          \"Small Straight\": 0, \"Large Straight\": 0, \"Yahtzee\": 0})\n",
        "\n",
        "    # Test with non-integer elements\n",
        "    self.assertEqual(yahtzee_score([1, 2, 'a', 4, 5]), {\"Ones\": 0, \"Twos\": 0, \"Threes\": 0, \"Fours\": 0, \"Fives\": 0, \"Sixes\": 0,\n",
        "                                                        \"Three of a Kind\": 0, \"Four of a Kind\": 0, \"Full House\": 0,\n",
        "                                                        \"Small Straight\": 0, \"Large Straight\": 0, \"Yahtzee\": 0})\n",
        "\n",
        "    # Test with elements outside the valid range (1-6)\n",
        "    self.assertEqual(yahtzee_score([0, 7, 8, 9, 10]), {\"Ones\": 0, \"Twos\": 0, \"Threes\": 0, \"Fours\": 0, \"Fives\": 0, \"Sixes\": 0,\n",
        "                                                        \"Three of a Kind\": 0, \"Four of a Kind\": 0, \"Full House\": 0,\n",
        "                                                        \"Small Straight\": 0, \"Large Straight\": 0, \"Yahtzee\": 0})\n",
        "\n"
      ],
      "metadata": {
        "id": "NbjslY_zU2vu"
      },
      "execution_count": 16,
      "outputs": []
    },
    {
      "cell_type": "markdown",
      "source": [
        "Performance Testing:\n",
        "Ensure the function performs adequately even with a large number of iterations."
      ],
      "metadata": {
        "id": "PEU5krGyVGwp"
      }
    },
    {
      "cell_type": "code",
      "source": [
        "import time\n",
        "\n",
        "def test_performance(self):\n",
        "    # Generate a large number of dice rolls\n",
        "    num_iterations = 10000\n",
        "    dice_rolls = [[1, 2, 3, 4, 5]] * num_iterations  # Using the same dice rolls for simplicity\n",
        "\n",
        "    start_time = time.time()\n",
        "    for dice in dice_rolls:\n",
        "        yahtzee_score(dice)\n",
        "    end_time = time.time()\n",
        "\n",
        "    total_time = end_time - start_time\n",
        "    avg_time_per_roll = total_time / num_iterations\n",
        "\n",
        "    # Set an acceptable time frame for scoring\n",
        "    max_time_per_roll = 0.001  # Adjust as needed\n",
        "\n",
        "    # Ensure that the average time per roll is within the acceptable time frame\n",
        "    self.assertLessEqual(avg_time_per_roll, max_time_per_roll)\n",
        "\n"
      ],
      "metadata": {
        "id": "YQLIuMdMVHR9"
      },
      "execution_count": 17,
      "outputs": []
    },
    {
      "cell_type": "markdown",
      "source": [
        "In this test method:\n",
        "\n",
        "We generate a large number of dice rolls (num_iterations) and measure the time it takes to calculate scores for all of them.\n",
        "We calculate the average time per roll and compare it to a maximum time per roll (max_time_per_roll) that we consider acceptable.\n",
        "If the average time per roll exceeds the acceptable time frame, the test will fail, indicating that the function's performance may need improvement.\n",
        "Adjust max_time_per_roll according to your requirements and system specifications. This test helps ensure that the scoring function performs efficiently, especially when dealing with a large number of dice rolls."
      ],
      "metadata": {
        "id": "0w_pCCz6Vl4z"
      }
    },
    {
      "cell_type": "markdown",
      "source": [
        "Integration Tests:\n",
        "Test the function within a simulated game environment or as part of a larger application."
      ],
      "metadata": {
        "id": "C1QCkUbUVKzu"
      }
    },
    {
      "cell_type": "code",
      "source": [
        "def test_integration(self):\n",
        "    # Simulate a Yahtzee game\n",
        "    num_rolls = 13  # Total number of rolls in a Yahtzee game\n",
        "    rolls = []\n",
        "\n",
        "    # Roll the dice num_rolls times\n",
        "    for _ in range(num_rolls):\n",
        "        # Simulate rolling five dice\n",
        "        dice = [random.randint(1, 6) for _ in range(5)]\n",
        "        rolls.append(dice)\n",
        "\n",
        "    # Calculate scores for each roll\n",
        "    scores = [yahtzee_score(dice) for dice in rolls]\n",
        "\n",
        "    # Calculate the total score at the end of the game\n",
        "    total_score = {category: sum(score[category] for score in scores) for category in scores[0]}\n",
        "\n",
        "    # Verify the total score at the end of the game\n",
        "    expected_total_score = calculate_expected_total_score(rolls)  # Implement this function according to your game rules\n",
        "    self.assertEqual(total_score, expected_total_score)"
      ],
      "metadata": {
        "id": "JNw7YMQMVLWH"
      },
      "execution_count": 18,
      "outputs": []
    },
    {
      "cell_type": "markdown",
      "source": [
        "User Interface Tests:\n",
        "If applicable, test the integration of the scoring function with the user interface."
      ],
      "metadata": {
        "id": "CoN8NxKPVOoy"
      }
    },
    {
      "cell_type": "markdown",
      "source": [
        "Randomized Tests:\n",
        "Generate random sets of dice rolls to test for correct scoring."
      ],
      "metadata": {
        "id": "jCbUR1WoVSAZ"
      }
    },
    {
      "cell_type": "code",
      "source": [
        "import random\n",
        "\n",
        "def test_random(self):\n",
        "    # Define the number of random sets of dice rolls to generate\n",
        "    num_sets = 100\n",
        "\n",
        "    # Iterate over each set of dice rolls\n",
        "    for _ in range(num_sets):\n",
        "        # Generate a random set of five dice rolls\n",
        "        dice = [random.randint(1, 6) for _ in range(5)]\n",
        "\n",
        "        # Calculate the expected score for each scoring category\n",
        "        expected_scores = {\n",
        "            \"Ones\": sum(d for d in dice if d == 1),\n",
        "            \"Twos\": sum(d for d in dice if d == 2),\n",
        "            \"Threes\": sum(d for d in dice if d == 3),\n",
        "            \"Fours\": sum(d for d in dice if d == 4),\n",
        "            \"Fives\": sum(d for d in dice if d == 5),\n",
        "            \"Sixes\": sum(d for d in dice if d == 6),\n",
        "            \"Three of a Kind\": sum(dice) if any(dice.count(d) >= 3 for d in dice) else 0,\n",
        "            \"Four of a Kind\": sum(dice) if any(dice.count(d) >= 4 for d in dice) else 0,\n",
        "            \"Full House\": 25 if len(set(dice)) == 2 and any(dice.count(d) == 2 for d in dice) else 0,\n",
        "            \"Small Straight\": 30 if {1, 2, 3, 4}.issubset(set(dice)) or {2, 3, 4, 5}.issubset(set(dice)) or {3, 4, 5, 6}.issubset(set(dice)) else 0,\n",
        "            \"Large Straight\": 40 if {1, 2, 3, 4, 5} == set(dice) or {2, 3, 4, 5, 6} == set(dice) else 0,\n",
        "            \"Yahtzee\": 50 if len(set(dice)) == 1 else 0,\n",
        "        }\n",
        "\n",
        "        # Calculate the score using the yahtzee_score() function\n",
        "        actual_scores = yahtzee_score(dice)\n",
        "\n",
        "        # Verify that the actual scores match the expected scores for each category\n",
        "        for category in expected_scores:\n",
        "            self.assertEqual(actual_scores[category], expected_scores[category])\n",
        "\n"
      ],
      "metadata": {
        "id": "zKk1mmYmVS0s"
      },
      "execution_count": 20,
      "outputs": []
    },
    {
      "cell_type": "markdown",
      "source": [
        "Code Review:\n",
        "Have a peer review the code and the testing strategy for potential improvements"
      ],
      "metadata": {
        "id": "PXwmkR11VU88"
      }
    },
    {
      "cell_type": "markdown",
      "source": [
        "ASSIGNMENT 4"
      ],
      "metadata": {
        "id": "r8tS40T_XZSW"
      }
    },
    {
      "cell_type": "markdown",
      "source": [
        "To implement a Python function that generates text using Markov chains, you can follow these steps:\n",
        "\n",
        "Read the text from the file.\n",
        "Parse the text into words.\n",
        "Build a Markov chain dictionary.\n",
        "Generate new text based on the Markov chain.\n",
        "Here's a Python function that accomplishes this:"
      ],
      "metadata": {
        "id": "taYbLCkKX32k"
      }
    },
    {
      "cell_type": "code",
      "source": [
        "import random\n",
        "\n",
        "def build_markov_chain(filename, chain_length):\n",
        "    chain = {}\n",
        "    with open(filename, 'r', encoding='utf-8') as file:\n",
        "        words = file.read().split()\n",
        "        for i in range(len(words) - chain_length):\n",
        "            prefix = tuple(words[i:i+chain_length])\n",
        "            suffix = words[i+chain_length]\n",
        "            if prefix in chain:\n",
        "                chain[prefix].append(suffix)\n",
        "            else:\n",
        "                chain[prefix] = [suffix]\n",
        "    return chain\n",
        "\n",
        "def generate(filename, start_words, chain_length, num_generated):\n",
        "    chain = build_markov_chain(filename, chain_length)\n",
        "    generated_words = start_words.copy()\n",
        "    prefix = tuple(start_words)\n",
        "\n",
        "    while len(generated_words) < num_generated:\n",
        "        if prefix in chain:\n",
        "            next_word = random.choice(chain[prefix])\n",
        "            generated_words.append(next_word)\n",
        "            prefix = tuple(generated_words[-chain_length:])\n",
        "        else:\n",
        "            break\n",
        "\n",
        "    return ' '.join(generated_words)\n",
        "\n",
        "# Example usage:\n",
        "filename = 'test.txt'  # Update with your text file\n",
        "start_words = ['The', 'quick', 'brown']  # Update with your start words\n",
        "chain_length = 2\n",
        "num_generated = 20\n",
        "generated_text = generate(filename, start_words, chain_length, num_generated)\n",
        "print(generated_text)\n"
      ],
      "metadata": {
        "colab": {
          "base_uri": "https://localhost:8080/"
        },
        "id": "k6m_2MbTXYcw",
        "outputId": "cf8239c5-71df-4536-e42f-a914c1545045"
      },
      "execution_count": 22,
      "outputs": [
        {
          "output_type": "stream",
          "name": "stdout",
          "text": [
            "The quick brown\n"
          ]
        }
      ]
    }
  ]
}